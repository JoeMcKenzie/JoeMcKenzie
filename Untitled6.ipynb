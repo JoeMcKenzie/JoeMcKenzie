{
  "nbformat": 4,
  "nbformat_minor": 0,
  "metadata": {
    "colab": {
      "provenance": [],
      "gpuType": "T4",
      "authorship_tag": "ABX9TyOzrMyLT2fbB37fwV7gemo5",
      "include_colab_link": true
    },
    "kernelspec": {
      "name": "python3",
      "display_name": "Python 3"
    },
    "language_info": {
      "name": "python"
    },
    "accelerator": "GPU"
  },
  "cells": [
    {
      "cell_type": "markdown",
      "metadata": {
        "id": "view-in-github",
        "colab_type": "text"
      },
      "source": [
        "<a href=\"https://colab.research.google.com/github/JoeMcKenzie/JoeMcKenzie/blob/main/Untitled6.ipynb\" target=\"_parent\"><img src=\"https://colab.research.google.com/assets/colab-badge.svg\" alt=\"Open In Colab\"/></a>"
      ]
    },
    {
      "cell_type": "code",
      "source": [
        "import requests\n",
        "import pandas as pd\n",
        "\n",
        "def fetch_uniprot_data(query, fields=None, page_size=25):\n",
        "    \"\"\"Fetches data from UniProt API using pagination.\"\"\"\n",
        "\n",
        "    base_url = \"https://rest.uniprot.org/uniprotkb/search\"\n",
        "    all_data = []\n",
        "    cursor = None\n",
        "\n",
        "    while True:\n",
        "        params = {\"query\": query, \"size\": page_size, \"format\": \"tsv\"}\n",
        "        if fields:\n",
        "            params[\"fields\"] = \",\".join(fields)\n",
        "        if cursor:\n",
        "            params[\"cursor\"] = cursor\n",
        "\n",
        "        response = requests.get(base_url, params=params)\n",
        "        response.raise_for_status()  # Raise HTTPError for bad responses (4xx or 5xx)\n",
        "\n",
        "        if not response.text.strip():\n",
        "            break #No results\n",
        "\n",
        "        data = [line.split('\\t') for line in response.text.strip().split('\\n')]\n",
        "\n",
        "        if not all_data:\n",
        "             all_data.append(data[0]) #Append header\n",
        "        all_data.extend(data[1:])\n",
        "\n",
        "        if \"Link\" in response.headers:\n",
        "            links = response.headers[\"Link\"].split(\",\")\n",
        "            next_link = [link for link in links if 'rel=\"next\"' in link][0]\n",
        "            cursor = next_link.split(\"cursor=\")[1].split(\"&\")[0].strip(\">;\")\n",
        "        else:\n",
        "            break\n",
        "\n",
        "    return all_data\n",
        "\n",
        "def save_to_excel(data, filename=\"uniprot_data.xlsx\"):\n",
        "    \"\"\"Saves UniProt data to an Excel file.\"\"\"\n",
        "\n",
        "    if not data:\n",
        "        print(\"No data to save.\")\n",
        "        return\n",
        "\n",
        "    df = pd.DataFrame(data[1:],columns=data[0])\n",
        "    df.to_excel(filename, index=False)\n",
        "    print(f\"Data saved to {filename}\")\n",
        "\n",
        "if __name__ == \"__main__\":\n",
        "    search_query = \"(keyword:KW-0732) AND (reviewed:true) AND (organism_id:9606)\"  # Example: Reviewed human entries\n",
        "    desired_fields = [\"protein_name\", \"sequence\", \"organism_id\", \"cc_subcellular_location\", \"ft_signal\"]  # Example fields\n",
        "\n",
        "    uniprot_data = fetch_uniprot_data(search_query, fields=desired_fields)\n",
        "    save_to_excel(uniprot_data)"
      ],
      "metadata": {
        "colab": {
          "base_uri": "https://localhost:8080/"
        },
        "id": "GK-8TMvYIv_h",
        "outputId": "53499403-d884-4da6-d62c-e455974ffaad"
      },
      "execution_count": null,
      "outputs": [
        {
          "output_type": "stream",
          "name": "stdout",
          "text": [
            "Data saved to uniprot_data.xlsx\n"
          ]
        }
      ]
    }
  ]
}